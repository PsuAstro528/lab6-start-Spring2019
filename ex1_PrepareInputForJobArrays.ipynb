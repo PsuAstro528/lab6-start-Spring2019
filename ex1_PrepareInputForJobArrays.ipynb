{
 "cells": [
  {
   "cell_type": "code",
   "execution_count": null,
   "metadata": {
    "ExecuteTime": {
     "end_time": "2019-02-25T00:35:09.439000-05:00",
     "start_time": "2019-02-25T05:35:03.376Z"
    }
   },
   "outputs": [],
   "source": [
    "using Pkg\n",
    "Pkg.activate(\".\")\n",
    "Pkg.instantiate()"
   ]
  },
  {
   "cell_type": "code",
   "execution_count": null,
   "metadata": {
    "ExecuteTime": {
     "end_time": "2019-02-25T00:35:09.468000-05:00",
     "start_time": "2019-02-25T05:35:03.380Z"
    }
   },
   "outputs": [],
   "source": [
    "# In case you need to add any packages manually\n",
    "# Pkg.add(\"CSV\")\n",
    "# Pkg.add(\"DataFrames\")"
   ]
  },
  {
   "cell_type": "code",
   "execution_count": null,
   "metadata": {
    "ExecuteTime": {
     "end_time": "2019-02-25T00:35:33.950000-05:00",
     "start_time": "2019-02-25T05:35:03.382Z"
    }
   },
   "outputs": [],
   "source": [
    "using CSV\n",
    "using DataFrames"
   ]
  },
  {
   "cell_type": "code",
   "execution_count": null,
   "metadata": {
    "ExecuteTime": {
     "end_time": "2019-02-25T00:35:36.275000-05:00",
     "start_time": "2019-02-25T05:35:03.384Z"
    }
   },
   "outputs": [],
   "source": [
    "job_sizes = [ 10000, 100000 ]\n",
    "num_jobs_per_size = 5\n",
    "num_sizes = length(job_sizes)\n",
    "num_jobs = num_jobs_per_size * num_sizes"
   ]
  },
  {
   "cell_type": "code",
   "execution_count": null,
   "metadata": {
    "ExecuteTime": {
     "end_time": "2019-02-25T00:35:39.974000-05:00",
     "start_time": "2019-02-25T05:35:03.385Z"
    }
   },
   "outputs": [],
   "source": [
    "array_ids = collect(1:num_jobs)\n",
    "num_itterations = Int64[]\n",
    "mapreduce(n->fill(n,num_jobs_per_size), append!, job_sizes, init=num_itterations)\n",
    "seeds = rand( 1:typemax(UInt32), num_jobs)\n",
    "df = DataFrame(array_id=array_ids,seed=seeds,n=num_itterations)"
   ]
  },
  {
   "cell_type": "code",
   "execution_count": null,
   "metadata": {
    "ExecuteTime": {
     "end_time": "2019-02-25T00:35:41.507000-05:00",
     "start_time": "2019-02-25T05:35:03.387Z"
    }
   },
   "outputs": [],
   "source": [
    "CSV.write(\"ex1_job_array_in.csv\",df )"
   ]
  },
  {
   "cell_type": "code",
   "execution_count": null,
   "metadata": {},
   "outputs": [],
   "source": []
  }
 ],
 "metadata": {
  "kernelspec": {
   "display_name": "Julia 1.0.2",
   "language": "julia",
   "name": "julia-1.0"
  },
  "language_info": {
   "file_extension": ".jl",
   "mimetype": "application/julia",
   "name": "julia",
   "version": "1.0.2"
  },
  "toc": {
   "base_numbering": 1,
   "nav_menu": {},
   "number_sections": true,
   "sideBar": true,
   "skip_h1_title": false,
   "title_cell": "Table of Contents",
   "title_sidebar": "Contents",
   "toc_cell": false,
   "toc_position": {},
   "toc_section_display": true,
   "toc_window_display": false
  },
  "varInspector": {
   "cols": {
    "lenName": 16,
    "lenType": 16,
    "lenVar": 40
   },
   "kernels_config": {
    "python": {
     "delete_cmd_postfix": "",
     "delete_cmd_prefix": "del ",
     "library": "var_list.py",
     "varRefreshCmd": "print(var_dic_list())"
    },
    "r": {
     "delete_cmd_postfix": ") ",
     "delete_cmd_prefix": "rm(",
     "library": "var_list.r",
     "varRefreshCmd": "cat(var_dic_list()) "
    }
   },
   "types_to_exclude": [
    "module",
    "function",
    "builtin_function_or_method",
    "instance",
    "_Feature"
   ],
   "window_display": false
  }
 },
 "nbformat": 4,
 "nbformat_minor": 2
}
